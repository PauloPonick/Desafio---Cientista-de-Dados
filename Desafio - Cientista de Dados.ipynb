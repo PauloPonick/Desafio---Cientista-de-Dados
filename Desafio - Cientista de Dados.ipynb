{
 "cells": [
  {
   "cell_type": "code",
   "execution_count": 1,
   "id": "5971784f",
   "metadata": {},
   "outputs": [],
   "source": [
    "## IMPORTAÇÃO DAS BIBLIOTECAS\n",
    "import pandas as pd\n",
    "import matplotlib.pyplot as plt\n",
    "import numpy as np\n",
    "from sklearn import linear_model"
   ]
  },
  {
   "cell_type": "code",
   "execution_count": 2,
   "id": "00fb0a78",
   "metadata": {},
   "outputs": [],
   "source": [
    "## IMPORTAÇÃO DO ARQUIVO DE DADOS\n",
    "data = pd.read_csv('Downloads/log_usuarios/log_usuarios.csv', ';')"
   ]
  },
  {
   "cell_type": "code",
   "execution_count": 3,
   "id": "c9a842f4",
   "metadata": {},
   "outputs": [
    {
     "name": "stdout",
     "output_type": "stream",
     "text": [
      "  data_consulta  useriD\n",
      "0        202106      85\n",
      "1        202107     381\n",
      "2        202108     422\n",
      "3        202109     227\n",
      "\n",
      " Data Types:\n",
      "data_consulta    object\n",
      "useriD            int64\n",
      "dtype: object\n"
     ]
    }
   ],
   "source": [
    "## CONVERTE A COLUNA PARA FORMATO DE DATA\n",
    "data.data_consulta = pd.to_datetime(data.data_consulta, format='%d/%m/%Y %H:%M')\n",
    "\n",
    "## FORMATA COMO ANO E MÊS\n",
    "data['data_consulta'] = data['data_consulta'].dt.strftime('%Y%m')\n",
    "\n",
    "## AGRUPA OS DADOS POR MÊS E IDs ÚNICOS DE USUÁRIOS\n",
    "data = data.groupby(['data_consulta']).useriD.nunique().reset_index() # nunique()/count()\n",
    "\n",
    "## VISUALIZA OS DADOS IMPORTADOS/TRATADOS\n",
    "print(data.head())\n",
    "print('\\n Data Types:')\n",
    "print(data.dtypes)"
   ]
  },
  {
   "cell_type": "code",
   "execution_count": 4,
   "id": "6779491c",
   "metadata": {},
   "outputs": [
    {
     "data": {
      "image/png": "[encoded data removed]",
      "text/plain": [
       "<Figure size 432x288 with 1 Axes>"
      ]
     },
     "metadata": {
      "needs_background": "light"
     },
     "output_type": "display_data"
    }
   ],
   "source": [
    "## CONVERTE OS VALORES DA COLUNA ANO/MÊS PARA INTEIRO\n",
    "data_consulta = data.data_consulta.astype(int).values\n",
    "\n",
    "## MODIFICA FORMATO DA MATRIZ PARA CONTER APENAS UMA COLUNA\n",
    "data_consulta = data_consulta.reshape(4,1)\n",
    "\n",
    "## INSERE CADA COLUNA EM UM NUMPY ARRAY\n",
    "meses = np.array(data_consulta) \n",
    "acessos = np.array(data.useriD)\n",
    "\n",
    "## CRIAÇÃO DO MODELO DE REGRESSÃO LINEAR\n",
    "regr = linear_model.LinearRegression()\n",
    "\n",
    "## FAZ O TREINAMENTO COM OS DADOS DISPONÍVEIS\n",
    "regr.fit(meses, acessos)\n",
    "\n",
    "## PREVÊ OS ACESSOS PARA OS PRÓXIMOS MESES\n",
    "acessos_out_prev = regr.predict([[202110]])\n",
    "acessos_nov_prev = regr.predict([[202111]])\n",
    "acessos_dez_prev = regr.predict([[202112]])\n",
    "\n",
    "## CONCATENA OS VALORES PREDITOS NOS ARRAYS PARA PLOTAGEM DO GRÁFICO\n",
    "meses = np.append(meses,[202110])\n",
    "meses = np.append(meses,[202111])\n",
    "meses = np.append(meses,[202112])\n",
    "\n",
    "acessos = np.append(acessos,[acessos_out_prev])\n",
    "acessos = np.append(acessos,[acessos_nov_prev])\n",
    "acessos = np.append(acessos,[acessos_dez_prev])\n",
    "\n",
    "## PLOTAGEM DO GRÁFICO\n",
    "plt.scatter(meses, acessos,  color='black')\n",
    "\n",
    "plt.xlabel('Meses')\n",
    "plt.ylabel('Acessos')\n",
    "\n",
    "plt.show()"
   ]
  },
  {
   "cell_type": "code",
   "execution_count": null,
   "id": "8ba859b8",
   "metadata": {},
   "outputs": [],
   "source": []
  }
 ],
 "metadata": {
  "kernelspec": {
   "display_name": "Python 3",
   "language": "python",
   "name": "python3"
  },
  "language_info": {
   "codemirror_mode": {
    "name": "ipython",
    "version": 3
   },
   "file_extension": ".py",
   "mimetype": "text/x-python",
   "name": "python",
   "nbconvert_exporter": "python",
   "pygments_lexer": "ipython3",
   "version": "3.8.8"
  }
 },
 "nbformat": 4,
 "nbformat_minor": 5
}
